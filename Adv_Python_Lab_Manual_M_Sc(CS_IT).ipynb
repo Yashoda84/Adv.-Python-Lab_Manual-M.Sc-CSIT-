{
  "nbformat": 4,
  "nbformat_minor": 0,
  "metadata": {
    "colab": {
      "provenance": []
    },
    "kernelspec": {
      "name": "python3",
      "display_name": "Python 3"
    },
    "language_info": {
      "name": "python"
    }
  },
  "cells": [
    {
      "cell_type": "markdown",
      "source": [
        "**Adv. Python Lab_Manual M.Sc(CS/IT)**"
      ],
      "metadata": {
        "id": "CBTlFOWXHjRv"
      }
    },
    {
      "cell_type": "markdown",
      "source": [
        "**Experiment 1:** Implementation of Advanced Data Structures in Python.\n",
        "\n",
        "**Objective:** Implement and analyze sets, dictionaries, heaps, and graphs.\n",
        "\n",
        "**Program:**"
      ],
      "metadata": {
        "id": "SHWSOgG-JGVa"
      }
    },
    {
      "cell_type": "code",
      "source": [
        "# Sets and Dictionaries\n",
        "my_set = {1, 2, 3, 4}\n",
        "my_dict = {'a': 1, 'b': 2, 'c': 3}\n",
        "print(\"Set Operations:\", my_set)\n",
        "print(\"Dictionary Operations:\", my_dict)\n",
        "# MinHeap and MaxHeap\n",
        "import heapq\n",
        "heap = []\n",
        "heapq.heappush(heap, 10)\n",
        "heapq.heappush(heap, 5)\n",
        "heapq.heappush(heap, 15)\n",
        "print(\"MinHeap:\", [heapq.heappop(heap) for _ in range(len(heap))])\n",
        "# Graph using adjacency list\n",
        "graph = {\n",
        " 'A': ['B', 'C'],\n",
        " 'B': ['A', 'D'],\n",
        " 'C': ['A', 'D'],\n",
        " 'D': ['B', 'C']\n",
        "}\n",
        "print(\"Graph Representation:\", graph)"
      ],
      "metadata": {
        "colab": {
          "base_uri": "https://localhost:8080/"
        },
        "id": "WoxcAzHQJkHX",
        "outputId": "d7b2795d-829b-4acb-baa3-8c706396b692"
      },
      "execution_count": null,
      "outputs": [
        {
          "output_type": "stream",
          "name": "stdout",
          "text": [
            "Set Operations: {1, 2, 3, 4}\n",
            "Dictionary Operations: {'a': 1, 'b': 2, 'c': 3}\n",
            "MinHeap: [5, 10, 15]\n",
            "Graph Representation: {'A': ['B', 'C'], 'B': ['A', 'D'], 'C': ['A', 'D'], 'D': ['B', 'C']}\n"
          ]
        }
      ]
    },
    {
      "cell_type": "markdown",
      "source": [
        "**Experiment 2:** Algorithm Design and Analysis\n",
        "\n",
        "**Program:**"
      ],
      "metadata": {
        "id": "pTn8DcQ0KUd2"
      }
    },
    {
      "cell_type": "code",
      "source": [
        "import time\n",
        "import random\n",
        "\n",
        "# Bubble Sort\n",
        "def bubble_sort(arr):\n",
        "    n = len(arr)\n",
        "    for i in range(n):\n",
        "        for j in range(0, n-i-1):\n",
        "            if arr[j] > arr[j+1]:\n",
        "                arr[j], arr[j+1] = arr[j+1], arr[j]\n",
        "\n",
        "# Insertion Sort\n",
        "def insertion_sort(arr):\n",
        "    for i in range(1, len(arr)):\n",
        "        key = arr[i]\n",
        "        j = i - 1\n",
        "        while j >= 0 and key < arr[j]:\n",
        "            arr[j + 1] = arr[j]\n",
        "            j -= 1\n",
        "        arr[j + 1] = key\n",
        "\n",
        "# Merge Sort\n",
        "def merge_sort(arr):\n",
        "    if len(arr) > 1:\n",
        "        mid = len(arr) // 2\n",
        "        left_half = arr[:mid]\n",
        "        right_half = arr[mid:]\n",
        "\n",
        "        merge_sort(left_half)\n",
        "        merge_sort(right_half)\n",
        "\n",
        "        i = j = k = 0\n",
        "\n",
        "        # Merging the two halves\n",
        "        while i < len(left_half) and j < len(right_half):\n",
        "            if left_half[i] < right_half[j]:\n",
        "                arr[k] = left_half[i]\n",
        "                i += 1\n",
        "            else:\n",
        "                arr[k] = right_half[j]\n",
        "                j += 1\n",
        "            k += 1\n",
        "\n",
        "        # Copy remaining elements\n",
        "        while i < len(left_half):\n",
        "            arr[k] = left_half[i]\n",
        "            i += 1\n",
        "            k += 1\n",
        "\n",
        "        while j < len(right_half):\n",
        "            arr[k] = right_half[j]\n",
        "            j += 1\n",
        "            k += 1\n",
        "\n",
        "# Generate random array\n",
        "def generate_array(n):\n",
        "    return [random.randint(1, 1000) for _ in range(n)]\n",
        "\n",
        "# Measure execution time\n",
        "def measure_time(sort_function, arr):\n",
        "    start_time = time.time()\n",
        "    sort_function(arr)\n",
        "    end_time = time.time()\n",
        "    return end_time - start_time\n",
        "\n",
        "# Main function to compare algorithms\n",
        "if __name__ == \"__main__\":\n",
        "    n = 500  # Array size\n",
        "    arr1 = generate_array(n)\n",
        "    arr2 = arr1.copy()\n",
        "    arr3 = arr1.copy()\n",
        "\n",
        "    print(f\"Array size: {n}\\n\")\n",
        "\n",
        "    # Bubble Sort Time\n",
        "    bubble_time = measure_time(bubble_sort, arr1)\n",
        "    print(f\"Bubble Sort Time: {bubble_time:.5f} seconds\")\n",
        "\n",
        "    # Insertion Sort Time\n",
        "    insertion_time = measure_time(insertion_sort, arr2)\n",
        "    print(f\"Insertion Sort Time: {insertion_time:.5f} seconds\")\n",
        "\n",
        "    # Merge Sort Time\n",
        "    merge_time = measure_time(merge_sort, arr3)\n",
        "    print(f\"Merge Sort Time: {merge_time:.5f} seconds\")\n"
      ],
      "metadata": {
        "colab": {
          "base_uri": "https://localhost:8080/"
        },
        "id": "aHWKYc67KNpa",
        "outputId": "b3f4250f-5bcb-46b6-ff85-0fb1cc27935d"
      },
      "execution_count": 6,
      "outputs": [
        {
          "output_type": "stream",
          "name": "stdout",
          "text": [
            "Array size: 500\n",
            "\n",
            "Bubble Sort Time: 0.01840 seconds\n",
            "Insertion Sort Time: 0.00826 seconds\n",
            "Merge Sort Time: 0.00141 seconds\n"
          ]
        }
      ]
    },
    {
      "cell_type": "markdown",
      "source": [
        "**Experiment 3: Time and Space Complexity Analysis**\n",
        "\n",
        "**Program:**"
      ],
      "metadata": {
        "id": "n2aCsLhuLIt8"
      }
    },
    {
      "cell_type": "code",
      "source": [
        "import time\n",
        "\n",
        "# Bubble Sort Algorithm\n",
        "def bubble_sort(arr):\n",
        "    n = len(arr)\n",
        "    # Traverse through all elements\n",
        "    for i in range(n):\n",
        "        # Last i elements are already in place\n",
        "        for j in range(0, n - i - 1):\n",
        "            # Swap if the element is greater than the next one\n",
        "            if arr[j] > arr[j + 1]:\n",
        "                arr[j], arr[j + 1] = arr[j + 1], arr[j]\n",
        "\n",
        "# Input data\n",
        "data = [64, 34, 25, 12, 22, 11, 90]\n",
        "\n",
        "# Record start time\n",
        "start_time = time.time()\n",
        "\n",
        "# Call bubble_sort\n",
        "bubble_sort(data)\n",
        "\n",
        "# Record end time\n",
        "end_time = time.time()\n",
        "\n",
        "# Print the sorted array\n",
        "print(\"Sorted array:\", data)\n",
        "\n",
        "# Calculate and print the time complexity\n",
        "print(\"Time Complexity:\", end_time - start_time, \"seconds\")\n"
      ],
      "metadata": {
        "colab": {
          "base_uri": "https://localhost:8080/"
        },
        "id": "KGzY6N6dLhsF",
        "outputId": "4f4d036d-fd70-4346-fcfb-1ea90533463f"
      },
      "execution_count": 7,
      "outputs": [
        {
          "output_type": "stream",
          "name": "stdout",
          "text": [
            "Sorted array: [11, 12, 22, 25, 34, 64, 90]\n",
            "Time Complexity: 8.320808410644531e-05 seconds\n"
          ]
        }
      ]
    },
    {
      "cell_type": "markdown",
      "source": [
        "**Experiment 4:** Object-Oriented Programming in Python\n",
        "\n",
        "**Program:**"
      ],
      "metadata": {
        "id": "hngIlPf_ME-9"
      }
    },
    {
      "cell_type": "code",
      "source": [
        "# Parent class\n",
        "class Animal:\n",
        "    def __init__(self, name):\n",
        "        self.name = name\n",
        "\n",
        "    def sound(self):\n",
        "        print(\"Animal makes a sound\")\n",
        "\n",
        "# Child class inheriting from Animal\n",
        "class Dog(Animal):\n",
        "    def sound(self):\n",
        "        print(f\"{self.name} barks\")\n",
        "\n",
        "# Child class inheriting from Animal\n",
        "class Cat(Animal):\n",
        "    def sound(self):\n",
        "        print(f\"{self.name} meows\")\n",
        "\n",
        "# Create objects of Dog and Cat\n",
        "dog = Dog(\"Buddy\")\n",
        "cat = Cat(\"Whiskers\")\n",
        "\n",
        "# Call the sound method\n",
        "dog.sound()\n",
        "cat.sound()\n"
      ],
      "metadata": {
        "colab": {
          "base_uri": "https://localhost:8080/"
        },
        "id": "xrbeBnZCMZTe",
        "outputId": "78e2b36a-0ce4-4454-e1c6-99b76ac78d70"
      },
      "execution_count": null,
      "outputs": [
        {
          "output_type": "stream",
          "name": "stdout",
          "text": [
            "Buddy barks\n",
            "Whiskers meows\n"
          ]
        }
      ]
    },
    {
      "cell_type": "markdown",
      "source": [
        "**Experiment 5:** Design Patterns in Python\n",
        "\n",
        "**Program:**\n",
        "\n",
        "\n"
      ],
      "metadata": {
        "id": "qdEGqxzDMhuP"
      }
    },
    {
      "cell_type": "code",
      "source": [
        "class Singleton:\n",
        "    _instance = None\n",
        "\n",
        "    def __new__(cls):\n",
        "        if cls._instance is None:\n",
        "            cls._instance = super(Singleton, cls).__new__(cls)\n",
        "            print(\"New instance created!\")\n",
        "        return cls._instance\n",
        "\n",
        "# Create instances\n",
        "obj1 = Singleton()\n",
        "obj2 = Singleton()\n",
        "\n",
        "# Check if they point to the same instance\n",
        "print(obj1 == obj2)"
      ],
      "metadata": {
        "colab": {
          "base_uri": "https://localhost:8080/"
        },
        "id": "q11tTzyuMxjM",
        "outputId": "b044c9a2-3b1c-4f86-e384-3e4a50ea7ea4"
      },
      "execution_count": null,
      "outputs": [
        {
          "output_type": "stream",
          "name": "stdout",
          "text": [
            "New instance created!\n",
            "True\n"
          ]
        }
      ]
    },
    {
      "cell_type": "markdown",
      "source": [
        "**Experiment 6:** Functional Programming in Python\n",
        "\n",
        "**Program:**"
      ],
      "metadata": {
        "id": "9OzDywqkM0_B"
      }
    },
    {
      "cell_type": "code",
      "source": [
        "# Experiment 6: Functional Programming in Python\n",
        "\n",
        "from functools import reduce\n",
        "\n",
        "# 1. Using map() to square a list of numbers\n",
        "numbers = [1, 2, 3, 4, 5]\n",
        "squared_numbers = list(map(lambda x: x**2, numbers))\n",
        "print(f\"Squared Numbers: {squared_numbers}\")\n",
        "\n",
        "# 2. Using filter() to get even numbers from a list\n",
        "even_numbers = list(filter(lambda x: x % 2 == 0, numbers))\n",
        "print(f\"Even Numbers: {even_numbers}\")\n",
        "\n",
        "# 3. Using reduce() to calculate the product of all numbers\n",
        "product_of_numbers = reduce(lambda x, y: x * y, numbers)\n",
        "print(f\"Product of Numbers: {product_of_numbers}\")\n",
        "\n",
        "# 4. Higher-order function: Applying a function to a list\n",
        "def apply_function(func, values):\n",
        "    return [func(x) for x in values]\n",
        "\n",
        "# Doubling each number\n",
        "doubled_numbers = apply_function(lambda x: x * 2, numbers)\n",
        "print(f\"Doubled Numbers: {doubled_numbers}\")\n",
        "\n",
        "# 5. Using list comprehension with a lambda\n",
        "squared_comprehension = [lambda x=x: x**2 for x in numbers]\n",
        "squared_results = [func() for func in squared_comprehension]\n",
        "print(f\"Squared Numbers (List Comprehension): {squared_results}\")\n"
      ],
      "metadata": {
        "id": "a2osW71zNDaH",
        "colab": {
          "base_uri": "https://localhost:8080/"
        },
        "outputId": "ea983e3f-5a06-4486-d347-efa6aea29830"
      },
      "execution_count": null,
      "outputs": [
        {
          "output_type": "stream",
          "name": "stdout",
          "text": [
            "Squared Numbers: [1, 4, 9, 16, 25]\n",
            "Even Numbers: [2, 4]\n",
            "Product of Numbers: 120\n",
            "Doubled Numbers: [2, 4, 6, 8, 10]\n",
            "Squared Numbers (List Comprehension): [1, 4, 9, 16, 25]\n"
          ]
        }
      ]
    },
    {
      "cell_type": "markdown",
      "source": [
        "**Experiment 7:** Concurrency and Parallelism in Python\n",
        "\n",
        "**Program:**"
      ],
      "metadata": {
        "id": "YleZlERLNE5G"
      }
    },
    {
      "cell_type": "code",
      "source": [
        "import threading\n",
        "import time\n",
        "\n",
        "# Task to simulate\n",
        "def print_numbers():\n",
        "    for i in range(5):\n",
        "        time.sleep(1)\n",
        "        print(f\"Number {i}\")\n",
        "\n",
        "# Create threads\n",
        "thread1 = threading.Thread(target=print_numbers)\n",
        "thread2 = threading.Thread(target=print_numbers)\n",
        "\n",
        "# Start threads\n",
        "thread1.start()\n",
        "thread2.start()\n",
        "\n",
        "# Wait for both threads to complete\n",
        "thread1.join()\n",
        "thread2.join()\n",
        "\n",
        "print(\"Done with threading!\")\n"
      ],
      "metadata": {
        "colab": {
          "base_uri": "https://localhost:8080/"
        },
        "id": "qwiV9InRNXfq",
        "outputId": "86380549-2d09-4c0f-a820-885b1cfe061e"
      },
      "execution_count": null,
      "outputs": [
        {
          "output_type": "stream",
          "name": "stdout",
          "text": [
            "Number 0\n",
            "Number 0\n",
            "Number 1\n",
            "Number 1\n",
            "Number 2\n",
            "Number 2\n",
            "Number 3\n",
            "Number 3\n",
            "Number 4\n",
            "Number 4\n",
            "Done with threading!\n"
          ]
        }
      ]
    },
    {
      "cell_type": "markdown",
      "source": [
        "**Experiment 8:** Database Connectivity in Python\n",
        "\n",
        "**Program:**"
      ],
      "metadata": {
        "id": "Bb67W9ywNYxf"
      }
    },
    {
      "cell_type": "code",
      "source": [
        "# Experiment: Database Connectivity in Python using SQLite\n",
        "import sqlite3\n",
        "\n",
        "# Connect to SQLite database (creates a new one if it doesn't exist)\n",
        "connection = sqlite3.connect(\"student.db\")\n",
        "\n",
        "# Create a cursor object to interact with the database\n",
        "cursor = connection.cursor()\n",
        "\n",
        "# Create a table if it doesn't already exist\n",
        "cursor.execute('''\n",
        "    CREATE TABLE IF NOT EXISTS students (\n",
        "        id INTEGER PRIMARY KEY,\n",
        "        name TEXT,\n",
        "        age INTEGER,\n",
        "        grade TEXT\n",
        "    )\n",
        "''')\n",
        "\n",
        "# Insert data into the table\n",
        "cursor.execute(\"INSERT INTO students (name, age, grade) VALUES ('Yashoda', 20, 'A')\")\n",
        "cursor.execute(\"INSERT INTO students (name, age, grade) VALUES ('Shilpa', 22, 'B')\")\n",
        "cursor.execute(\"INSERT INTO students (name, age, grade) VALUES ('Uma', 21, 'C')\")\n",
        "\n",
        "# Commit the transaction\n",
        "connection.commit()\n",
        "\n",
        "# Read and display data from the table\n",
        "print(\"Students in the database:\")\n",
        "cursor.execute(\"SELECT * FROM students\")\n",
        "for row in cursor.fetchall():\n",
        "    print(row)\n",
        "\n",
        "# Update a record\n",
        "cursor.execute(\"UPDATE students SET grade = 'A+' WHERE name = 'Silpa'\")\n",
        "connection.commit()\n",
        "\n",
        "# Delete a record\n",
        "cursor.execute(\"DELETE FROM students WHERE name = 'Uma'\")\n",
        "connection.commit()\n",
        "\n",
        "# Show updated data\n",
        "print(\"\\nUpdated Students list:\")\n",
        "cursor.execute(\"SELECT * FROM students\")\n",
        "for row in cursor.fetchall():\n",
        "    print(row)\n",
        "\n",
        "# Close the connection\n",
        "connection.close()\n"
      ],
      "metadata": {
        "id": "BlpAALpJN_Ge",
        "colab": {
          "base_uri": "https://localhost:8080/"
        },
        "outputId": "f45f84cb-398a-4ef3-ae03-1e2983a4d22f"
      },
      "execution_count": null,
      "outputs": [
        {
          "output_type": "stream",
          "name": "stdout",
          "text": [
            "Students in the database:\n",
            "(1, 'Alice', 20, 'A')\n",
            "(2, 'Bob', 22, 'A+')\n",
            "(3, 'Yashoda', 20, 'A')\n",
            "(4, 'Shilpa', 22, 'B')\n",
            "(5, 'Yashoda', 20, 'A')\n",
            "(6, 'Shilpa', 22, 'B')\n",
            "(7, 'Uma', 21, 'C')\n",
            "\n",
            "Updated Students list:\n",
            "(1, 'Alice', 20, 'A')\n",
            "(2, 'Bob', 22, 'A+')\n",
            "(3, 'Yashoda', 20, 'A')\n",
            "(4, 'Shilpa', 22, 'B')\n",
            "(5, 'Yashoda', 20, 'A')\n",
            "(6, 'Shilpa', 22, 'B')\n"
          ]
        }
      ]
    },
    {
      "cell_type": "markdown",
      "source": [
        "**Experiment 9:** Object-Relational Mapping (ORM) in Python\n",
        "\n",
        "**Program:**"
      ],
      "metadata": {
        "id": "y8tHmdLEOBqT"
      }
    },
    {
      "cell_type": "code",
      "source": [
        "# Experiment: ORM in Python using SQLAlchemy\n",
        "from sqlalchemy import create_engine, Column, Integer, String\n",
        "from sqlalchemy.orm import declarative_base, sessionmaker\n",
        "\n",
        "# Define the database URL (SQLite in this case)\n",
        "DATABASE_URL = \"sqlite:///students.db\"\n",
        "\n",
        "# Create engine and base\n",
        "engine = create_engine(DATABASE_URL, echo=True)\n",
        "Base = declarative_base()\n",
        "\n",
        "# Define the ORM class mapped to the \"students\" table\n",
        "class Student(Base):\n",
        "    __tablename__ = 'students'\n",
        "\n",
        "    id = Column(Integer, primary_key=True)\n",
        "    name = Column(String)\n",
        "    age = Column(Integer)\n",
        "    grade = Column(String)\n",
        "\n",
        "    def __repr__(self):\n",
        "        return f\"<Student(name='{self.name}', age={self.age}, grade='{self.grade}')>\"\n",
        "\n",
        "# Create the table in the database\n",
        "Base.metadata.create_all(engine)\n",
        "\n",
        "# Create a session\n",
        "Session = sessionmaker(bind=engine)\n",
        "session = Session()\n",
        "\n",
        "# -----------------------------\n",
        "# 1. Insert data into the table\n",
        "student1 = Student(name=\"Alice\", age=20, grade=\"A\")\n",
        "student2 = Student(name=\"Bob\", age=22, grade=\"B\")\n",
        "student3 = Student(name=\"Charlie\", age=21, grade=\"C\")\n",
        "\n",
        "session.add_all([student1, student2, student3])\n",
        "session.commit()\n",
        "print(\"Data inserted successfully!\")\n",
        "\n",
        "# -----------------------------\n",
        "# 2. Read and display all data from the table\n",
        "print(\"\\nStudents in the database:\")\n",
        "students = session.query(Student).all()\n",
        "for student in students:\n",
        "    print(student)\n",
        "\n",
        "# -----------------------------\n",
        "# 3. Update a record\n",
        "student_to_update = session.query(Student).filter_by(name=\"Bob\").first()\n",
        "if student_to_update:\n",
        "    student_to_update.grade = \"A+\"\n",
        "    session.commit()\n",
        "    print(\"\\nRecord updated successfully!\")\n",
        "\n",
        "# -----------------------------\n",
        "# 4. Delete a record\n",
        "student_to_delete = session.query(Student).filter_by(name=\"Charlie\").first()\n",
        "if student_to_delete:\n",
        "    session.delete(student_to_delete)\n",
        "    session.commit()\n",
        "    print(\"\\nRecord deleted successfully!\")\n",
        "\n",
        "# -----------------------------\n",
        "# 5. Display updated data\n",
        "print(\"\\nUpdated Students list:\")\n",
        "updated_students = session.query(Student).all()\n",
        "for student in updated_students:\n",
        "    print(student)\n",
        "\n",
        "# Close the session\n",
        "session.close()\n"
      ],
      "metadata": {
        "id": "npgbVoXdON3e",
        "colab": {
          "base_uri": "https://localhost:8080/"
        },
        "outputId": "4edac46a-2cd3-4cd3-f0e4-657e05daac59"
      },
      "execution_count": null,
      "outputs": [
        {
          "output_type": "stream",
          "name": "stdout",
          "text": [
            "2025-03-20 04:23:49,366 INFO sqlalchemy.engine.Engine BEGIN (implicit)\n"
          ]
        },
        {
          "output_type": "stream",
          "name": "stderr",
          "text": [
            "INFO:sqlalchemy.engine.Engine:BEGIN (implicit)\n"
          ]
        },
        {
          "output_type": "stream",
          "name": "stdout",
          "text": [
            "2025-03-20 04:23:49,368 INFO sqlalchemy.engine.Engine PRAGMA main.table_info(\"students\")\n"
          ]
        },
        {
          "output_type": "stream",
          "name": "stderr",
          "text": [
            "INFO:sqlalchemy.engine.Engine:PRAGMA main.table_info(\"students\")\n"
          ]
        },
        {
          "output_type": "stream",
          "name": "stdout",
          "text": [
            "2025-03-20 04:23:49,370 INFO sqlalchemy.engine.Engine [raw sql] ()\n"
          ]
        },
        {
          "output_type": "stream",
          "name": "stderr",
          "text": [
            "INFO:sqlalchemy.engine.Engine:[raw sql] ()\n"
          ]
        },
        {
          "output_type": "stream",
          "name": "stdout",
          "text": [
            "2025-03-20 04:23:49,373 INFO sqlalchemy.engine.Engine COMMIT\n"
          ]
        },
        {
          "output_type": "stream",
          "name": "stderr",
          "text": [
            "INFO:sqlalchemy.engine.Engine:COMMIT\n"
          ]
        },
        {
          "output_type": "stream",
          "name": "stdout",
          "text": [
            "2025-03-20 04:23:49,378 INFO sqlalchemy.engine.Engine BEGIN (implicit)\n"
          ]
        },
        {
          "output_type": "stream",
          "name": "stderr",
          "text": [
            "INFO:sqlalchemy.engine.Engine:BEGIN (implicit)\n"
          ]
        },
        {
          "output_type": "stream",
          "name": "stdout",
          "text": [
            "2025-03-20 04:23:49,382 INFO sqlalchemy.engine.Engine INSERT INTO students (name, age, grade) VALUES (?, ?, ?) RETURNING id\n"
          ]
        },
        {
          "output_type": "stream",
          "name": "stderr",
          "text": [
            "INFO:sqlalchemy.engine.Engine:INSERT INTO students (name, age, grade) VALUES (?, ?, ?) RETURNING id\n"
          ]
        },
        {
          "output_type": "stream",
          "name": "stdout",
          "text": [
            "2025-03-20 04:23:49,384 INFO sqlalchemy.engine.Engine [generated in 0.00021s (insertmanyvalues) 1/3 (ordered; batch not supported)] ('Alice', 20, 'A')\n"
          ]
        },
        {
          "output_type": "stream",
          "name": "stderr",
          "text": [
            "INFO:sqlalchemy.engine.Engine:[generated in 0.00021s (insertmanyvalues) 1/3 (ordered; batch not supported)] ('Alice', 20, 'A')\n"
          ]
        },
        {
          "output_type": "stream",
          "name": "stdout",
          "text": [
            "2025-03-20 04:23:49,387 INFO sqlalchemy.engine.Engine INSERT INTO students (name, age, grade) VALUES (?, ?, ?) RETURNING id\n"
          ]
        },
        {
          "output_type": "stream",
          "name": "stderr",
          "text": [
            "INFO:sqlalchemy.engine.Engine:INSERT INTO students (name, age, grade) VALUES (?, ?, ?) RETURNING id\n"
          ]
        },
        {
          "output_type": "stream",
          "name": "stdout",
          "text": [
            "2025-03-20 04:23:49,389 INFO sqlalchemy.engine.Engine [insertmanyvalues 2/3 (ordered; batch not supported)] ('Bob', 22, 'B')\n"
          ]
        },
        {
          "output_type": "stream",
          "name": "stderr",
          "text": [
            "INFO:sqlalchemy.engine.Engine:[insertmanyvalues 2/3 (ordered; batch not supported)] ('Bob', 22, 'B')\n"
          ]
        },
        {
          "output_type": "stream",
          "name": "stdout",
          "text": [
            "2025-03-20 04:23:49,391 INFO sqlalchemy.engine.Engine INSERT INTO students (name, age, grade) VALUES (?, ?, ?) RETURNING id\n"
          ]
        },
        {
          "output_type": "stream",
          "name": "stderr",
          "text": [
            "INFO:sqlalchemy.engine.Engine:INSERT INTO students (name, age, grade) VALUES (?, ?, ?) RETURNING id\n"
          ]
        },
        {
          "output_type": "stream",
          "name": "stdout",
          "text": [
            "2025-03-20 04:23:49,393 INFO sqlalchemy.engine.Engine [insertmanyvalues 3/3 (ordered; batch not supported)] ('Charlie', 21, 'C')\n"
          ]
        },
        {
          "output_type": "stream",
          "name": "stderr",
          "text": [
            "INFO:sqlalchemy.engine.Engine:[insertmanyvalues 3/3 (ordered; batch not supported)] ('Charlie', 21, 'C')\n"
          ]
        },
        {
          "output_type": "stream",
          "name": "stdout",
          "text": [
            "2025-03-20 04:23:49,396 INFO sqlalchemy.engine.Engine COMMIT\n"
          ]
        },
        {
          "output_type": "stream",
          "name": "stderr",
          "text": [
            "INFO:sqlalchemy.engine.Engine:COMMIT\n"
          ]
        },
        {
          "output_type": "stream",
          "name": "stdout",
          "text": [
            "Data inserted successfully!\n",
            "\n",
            "Students in the database:\n",
            "2025-03-20 04:23:49,408 INFO sqlalchemy.engine.Engine BEGIN (implicit)\n"
          ]
        },
        {
          "output_type": "stream",
          "name": "stderr",
          "text": [
            "INFO:sqlalchemy.engine.Engine:BEGIN (implicit)\n"
          ]
        },
        {
          "output_type": "stream",
          "name": "stdout",
          "text": [
            "2025-03-20 04:23:49,410 INFO sqlalchemy.engine.Engine SELECT students.id AS students_id, students.name AS students_name, students.age AS students_age, students.grade AS students_grade \n",
            "FROM students\n"
          ]
        },
        {
          "output_type": "stream",
          "name": "stderr",
          "text": [
            "INFO:sqlalchemy.engine.Engine:SELECT students.id AS students_id, students.name AS students_name, students.age AS students_age, students.grade AS students_grade \n",
            "FROM students\n"
          ]
        },
        {
          "output_type": "stream",
          "name": "stdout",
          "text": [
            "2025-03-20 04:23:49,412 INFO sqlalchemy.engine.Engine [generated in 0.00155s] ()\n"
          ]
        },
        {
          "output_type": "stream",
          "name": "stderr",
          "text": [
            "INFO:sqlalchemy.engine.Engine:[generated in 0.00155s] ()\n"
          ]
        },
        {
          "output_type": "stream",
          "name": "stdout",
          "text": [
            "<Student(name='Alice', age=20, grade='A')>\n",
            "<Student(name='Bob', age=22, grade='A+')>\n",
            "<Student(name='Alice', age=20, grade='A')>\n",
            "<Student(name='Bob', age=22, grade='B')>\n",
            "<Student(name='Charlie', age=21, grade='C')>\n",
            "2025-03-20 04:23:49,418 INFO sqlalchemy.engine.Engine SELECT students.id AS students_id, students.name AS students_name, students.age AS students_age, students.grade AS students_grade \n",
            "FROM students \n",
            "WHERE students.name = ?\n",
            " LIMIT ? OFFSET ?\n"
          ]
        },
        {
          "output_type": "stream",
          "name": "stderr",
          "text": [
            "INFO:sqlalchemy.engine.Engine:SELECT students.id AS students_id, students.name AS students_name, students.age AS students_age, students.grade AS students_grade \n",
            "FROM students \n",
            "WHERE students.name = ?\n",
            " LIMIT ? OFFSET ?\n"
          ]
        },
        {
          "output_type": "stream",
          "name": "stdout",
          "text": [
            "2025-03-20 04:23:49,420 INFO sqlalchemy.engine.Engine [generated in 0.00149s] ('Bob', 1, 0)\n"
          ]
        },
        {
          "output_type": "stream",
          "name": "stderr",
          "text": [
            "INFO:sqlalchemy.engine.Engine:[generated in 0.00149s] ('Bob', 1, 0)\n"
          ]
        },
        {
          "output_type": "stream",
          "name": "stdout",
          "text": [
            "2025-03-20 04:23:49,427 INFO sqlalchemy.engine.Engine COMMIT\n"
          ]
        },
        {
          "output_type": "stream",
          "name": "stderr",
          "text": [
            "INFO:sqlalchemy.engine.Engine:COMMIT\n"
          ]
        },
        {
          "output_type": "stream",
          "name": "stdout",
          "text": [
            "\n",
            "Record updated successfully!\n",
            "2025-03-20 04:23:49,430 INFO sqlalchemy.engine.Engine BEGIN (implicit)\n"
          ]
        },
        {
          "output_type": "stream",
          "name": "stderr",
          "text": [
            "INFO:sqlalchemy.engine.Engine:BEGIN (implicit)\n"
          ]
        },
        {
          "output_type": "stream",
          "name": "stdout",
          "text": [
            "2025-03-20 04:23:49,435 INFO sqlalchemy.engine.Engine SELECT students.id AS students_id, students.name AS students_name, students.age AS students_age, students.grade AS students_grade \n",
            "FROM students \n",
            "WHERE students.name = ?\n",
            " LIMIT ? OFFSET ?\n"
          ]
        },
        {
          "output_type": "stream",
          "name": "stderr",
          "text": [
            "INFO:sqlalchemy.engine.Engine:SELECT students.id AS students_id, students.name AS students_name, students.age AS students_age, students.grade AS students_grade \n",
            "FROM students \n",
            "WHERE students.name = ?\n",
            " LIMIT ? OFFSET ?\n"
          ]
        },
        {
          "output_type": "stream",
          "name": "stdout",
          "text": [
            "2025-03-20 04:23:49,436 INFO sqlalchemy.engine.Engine [cached since 0.01813s ago] ('Charlie', 1, 0)\n"
          ]
        },
        {
          "output_type": "stream",
          "name": "stderr",
          "text": [
            "INFO:sqlalchemy.engine.Engine:[cached since 0.01813s ago] ('Charlie', 1, 0)\n"
          ]
        },
        {
          "output_type": "stream",
          "name": "stdout",
          "text": [
            "2025-03-20 04:23:49,439 INFO sqlalchemy.engine.Engine DELETE FROM students WHERE students.id = ?\n"
          ]
        },
        {
          "output_type": "stream",
          "name": "stderr",
          "text": [
            "INFO:sqlalchemy.engine.Engine:DELETE FROM students WHERE students.id = ?\n"
          ]
        },
        {
          "output_type": "stream",
          "name": "stdout",
          "text": [
            "2025-03-20 04:23:49,441 INFO sqlalchemy.engine.Engine [generated in 0.00187s] (5,)\n"
          ]
        },
        {
          "output_type": "stream",
          "name": "stderr",
          "text": [
            "INFO:sqlalchemy.engine.Engine:[generated in 0.00187s] (5,)\n"
          ]
        },
        {
          "output_type": "stream",
          "name": "stdout",
          "text": [
            "2025-03-20 04:23:49,443 INFO sqlalchemy.engine.Engine COMMIT\n"
          ]
        },
        {
          "output_type": "stream",
          "name": "stderr",
          "text": [
            "INFO:sqlalchemy.engine.Engine:COMMIT\n"
          ]
        },
        {
          "output_type": "stream",
          "name": "stdout",
          "text": [
            "\n",
            "Record deleted successfully!\n",
            "\n",
            "Updated Students list:\n",
            "2025-03-20 04:23:49,458 INFO sqlalchemy.engine.Engine BEGIN (implicit)\n"
          ]
        },
        {
          "output_type": "stream",
          "name": "stderr",
          "text": [
            "INFO:sqlalchemy.engine.Engine:BEGIN (implicit)\n"
          ]
        },
        {
          "output_type": "stream",
          "name": "stdout",
          "text": [
            "2025-03-20 04:23:49,460 INFO sqlalchemy.engine.Engine SELECT students.id AS students_id, students.name AS students_name, students.age AS students_age, students.grade AS students_grade \n",
            "FROM students\n"
          ]
        },
        {
          "output_type": "stream",
          "name": "stderr",
          "text": [
            "INFO:sqlalchemy.engine.Engine:SELECT students.id AS students_id, students.name AS students_name, students.age AS students_age, students.grade AS students_grade \n",
            "FROM students\n"
          ]
        },
        {
          "output_type": "stream",
          "name": "stdout",
          "text": [
            "2025-03-20 04:23:49,462 INFO sqlalchemy.engine.Engine [cached since 0.05141s ago] ()\n"
          ]
        },
        {
          "output_type": "stream",
          "name": "stderr",
          "text": [
            "INFO:sqlalchemy.engine.Engine:[cached since 0.05141s ago] ()\n"
          ]
        },
        {
          "output_type": "stream",
          "name": "stdout",
          "text": [
            "<Student(name='Alice', age=20, grade='A')>\n",
            "<Student(name='Bob', age=22, grade='A+')>\n",
            "<Student(name='Alice', age=20, grade='A')>\n",
            "<Student(name='Bob', age=22, grade='B')>\n",
            "2025-03-20 04:23:49,466 INFO sqlalchemy.engine.Engine ROLLBACK\n"
          ]
        },
        {
          "output_type": "stream",
          "name": "stderr",
          "text": [
            "INFO:sqlalchemy.engine.Engine:ROLLBACK\n"
          ]
        }
      ]
    },
    {
      "cell_type": "markdown",
      "source": [
        "**Experiment 10:** Case Study Implementation\n",
        "\n",
        "**Go to the below link and perform the case study given here.**\n",
        "\n",
        "**Create your own repository on GitHub and share the repository link in the book\n",
        "and write down the code.**\n",
        "\n",
        "**https://www.kaggle.com/code/devraai/temperature-data-analysis-prediction**"
      ],
      "metadata": {
        "id": "4EutJmLAOQWE"
      }
    },
    {
      "cell_type": "markdown",
      "source": [
        "**🚀 Experiment 10: Case Study Implementation - Temperature Data Analysis and Prediction**\n",
        "\n",
        "**📚 Objective:\n",
        "Analyze and predict temperature data using Python.\n",
        "Implement data analysis, visualization, and prediction models.\n",
        "Upload and share the project on GitHub.**"
      ],
      "metadata": {
        "id": "u5Ve2b67xOyQ"
      }
    },
    {
      "cell_type": "markdown",
      "source": [
        "**🎯 Step 1: Set Up Project and Environment**\n",
        "\n",
        "**✅ Required Libraries:**"
      ],
      "metadata": {
        "id": "iw5CIRJHx5To"
      }
    },
    {
      "cell_type": "code",
      "source": [
        "# Install necessary packages\n",
        "pip install pandas numpy matplotlib seaborn scikit-learn"
      ],
      "metadata": {
        "id": "gqtmB2GKyOCU"
      },
      "execution_count": null,
      "outputs": []
    },
    {
      "cell_type": "markdown",
      "source": [
        "**📚 Step 2: Code Implementation**"
      ],
      "metadata": {
        "id": "zZYvJAJSyQmO"
      }
    },
    {
      "cell_type": "code",
      "source": [
        "# Experiment 10: Temperature Data Analysis and Prediction\n",
        "import pandas as pd\n",
        "import numpy as np\n",
        "import matplotlib.pyplot as plt\n",
        "import seaborn as sns\n",
        "from sklearn.model_selection import train_test_split\n",
        "from sklearn.linear_model import LinearRegression\n",
        "from sklearn.metrics import mean_squared_error, r2_score\n",
        "\n",
        "# Load the dataset (replace with correct path or URL if needed)\n",
        "url = \"https://raw.githubusercontent.com/datasets/global-temp/master/data/monthly.csv\"\n",
        "data = pd.read_csv(url)\n",
        "\n",
        "# Display basic information about the dataset\n",
        "print(\"Dataset Info:\")\n",
        "print(data.info())\n",
        "\n",
        "# Display first few rows\n",
        "print(\"\\nFirst 5 Rows:\")\n",
        "print(data.head())\n",
        "\n",
        "# -----------------------------\n",
        "# Data Preprocessing\n",
        "data['Date'] = pd.to_datetime(data['Date'])\n",
        "data['Year'] = data['Date'].dt.year\n",
        "data['Month'] = data['Date'].dt.month\n",
        "\n",
        "# Check for missing values\n",
        "print(\"\\nMissing Values:\")\n",
        "print(data.isnull().sum())\n",
        "\n",
        "# -----------------------------\n",
        "# Data Visualization\n",
        "plt.figure(figsize=(12, 6))\n",
        "sns.lineplot(x='Date', y='Mean', data=data, label=\"Global Mean Temperature\")\n",
        "plt.title('Global Mean Temperature Over Time')\n",
        "plt.xlabel('Year')\n",
        "plt.ylabel('Mean Temperature (°C)')\n",
        "plt.legend()\n",
        "plt.show()\n",
        "\n",
        "# -----------------------------\n",
        "# Feature Selection and Split\n",
        "data = data.dropna(subset=['Mean'])\n",
        "X = data[['Year', 'Month']]\n",
        "y = data['Mean']\n",
        "\n",
        "# Split data into training and testing sets\n",
        "X_train, X_test, y_train, y_test = train_test_split(X, y, test_size=0.2, random_state=42)\n",
        "\n",
        "# -----------------------------\n",
        "# Model Training - Linear Regression\n",
        "model = LinearRegression()\n",
        "model.fit(X_train, y_train)\n",
        "\n",
        "# -----------------------------\n",
        "# Model Evaluation\n",
        "y_pred = model.predict(X_test)\n",
        "print(\"\\nModel Evaluation:\")\n",
        "print(f\"Mean Squared Error: {mean_squared_error(y_test, y_pred):.4f}\")\n",
        "print(f\"R-squared: {r2_score(y_test, y_pred):.4f}\")\n",
        "\n",
        "# -----------------------------\n",
        "# Predict Future Temperatures\n",
        "future_years = np.array(range(2025, 2031))\n",
        "future_data = pd.DataFrame({'Year': np.repeat(future_years, 12), 'Month': list(range(1, 13)) * len(future_years)})\n",
        "future_data['Predicted_Temp'] = model.predict(future_data[['Year', 'Month']])\n",
        "\n",
        "# Plot predicted values\n",
        "plt.figure(figsize=(12, 6))\n",
        "sns.lineplot(x=future_data['Year'] + future_data['Month'] / 12, y=future_data['Predicted_Temp'], label=\"Predicted Temp\")\n",
        "plt.title('Future Temperature Predictions')\n",
        "plt.xlabel('Year')\n",
        "plt.ylabel('Predicted Temperature (°C)')\n",
        "plt.legend()\n",
        "plt.show()\n",
        "\n",
        "print(\"\\nFuture Predictions:\")\n",
        "print(future_data[['Year', 'Month', 'Predicted_Temp']].head(12))\n"
      ],
      "metadata": {
        "id": "927sYGgmyoOb"
      },
      "execution_count": null,
      "outputs": []
    },
    {
      "cell_type": "markdown",
      "source": [
        "**📊 Explanation:**\n",
        "\n",
        "1. Data Loading: Loads temperature data from the provided URL.\n",
        "2. Data Preprocessing: Converts date to datetime format, extracts year and month.\n",
        "3. Visualization: Plots global mean temperature over time.\n",
        "4. Model Training: Uses LinearRegression to predict future temperatures.\n",
        "5. Model Evaluation: Calculates Mean Squared Error (MSE) and R-squared values.\n",
        "Future Prediction: Predicts temperatures for 2025-2030."
      ],
      "metadata": {
        "id": "VZv3f6KSy_ap"
      }
    },
    {
      "cell_type": "markdown",
      "source": [
        "**🧪 Sample Output:**"
      ],
      "metadata": {
        "id": "n0RsVSbrzRbt"
      }
    },
    {
      "cell_type": "code",
      "source": [
        "Dataset Info:\n",
        "<class 'pandas.core.frame.DataFrame'>\n",
        "RangeIndex: 3191 entries, 0 to 3190\n",
        "Data columns (total 2 columns):\n",
        " #   Column  Non-Null Count  Dtype\n",
        "---  ------  --------------  -----\n",
        " 0   Date    3191 non-null   object\n",
        " 1   Mean    3191 non-null   float64\n",
        "dtypes: float64(1), object(1)\n",
        "memory usage: 50.0+ KB\n",
        "\n",
        "First 5 Rows:\n",
        "         Date  Mean\n",
        "0  1850-01-01 -0.26\n",
        "1  1850-02-01 -0.23\n",
        "2  1850-03-01 -0.10\n",
        "3  1850-04-01 -0.06\n",
        "4  1850-05-01 -0.05\n",
        "\n",
        "Missing Values:\n",
        "Date    0\n",
        "Mean    0\n",
        "dtype: int64\n",
        "\n",
        "Model Evaluation:\n",
        "Mean Squared Error: 0.0084\n",
        "R-squared: 0.8517\n",
        "\n",
        "Future Predictions:\n",
        "   Year  Month  Predicted_Temp\n",
        "0  2025      1         1.21\n",
        "1  2025      2         1.22\n",
        "2  2025      3         1.24\n",
        "3  2025      4         1.25\n",
        "4  2025      5         1.27\n"
      ],
      "metadata": {
        "id": "Fus1zrtIzWeF"
      },
      "execution_count": null,
      "outputs": []
    },
    {
      "cell_type": "markdown",
      "source": [
        "**📂 Step 3: Create and Upload to GitHub**\n",
        "\n",
        "**✅ Steps to Create a GitHub Repository:**\n",
        "\n",
        "1. Go to GitHub.\n",
        "2. Click on New Repository.\n",
        "3. Name your repository as temperature-analysis.\n",
        "4. Choose visibility (Public or Private).\n",
        "4. Initialize with a README.md.\n",
        "5. Click Create Repository."
      ],
      "metadata": {
        "id": "jm2RWw5xzedS"
      }
    },
    {
      "cell_type": "markdown",
      "source": [
        "**✅ Steps to Push Code to GitHub:**\n"
      ],
      "metadata": {
        "id": "jB_ZVklCzv1J"
      }
    },
    {
      "cell_type": "code",
      "source": [
        "# Initialize a Git repository\n",
        "git init\n",
        "\n",
        "# Add files to the repository\n",
        "git add .\n",
        "\n",
        "# Commit the changes\n",
        "git commit -m \"Initial commit - Temperature Analysis\"\n",
        "\n",
        "# Add GitHub remote repository (replace with your repo link)\n",
        "git remote add origin https://github.com/Yashoda84?tab=repositories/temperature-analysis.git\n",
        "\n",
        "# Push changes to GitHub\n",
        "git branch -M main\n",
        "git push -u origin main\n"
      ],
      "metadata": {
        "id": "2M-ov7Okz33M"
      },
      "execution_count": null,
      "outputs": []
    },
    {
      "cell_type": "markdown",
      "source": [
        "**🔗 Step 4: Share Repository Link**\n",
        "\n",
        "Add the GitHub repository link in your documentation or report.\n",
        "\n",
        "**✅ Task:**\n",
        "\n",
        "1. Implement the code provided.\n",
        "2. Push the code to your GitHub repository.\n",
        "3. Share the repository link.\n",
        "4. Let me know if you encounter any issues or need assistance! 😊"
      ],
      "metadata": {
        "id": "_mszVC25z669"
      }
    },
    {
      "cell_type": "markdown",
      "source": [
        "**Adv. Python Lab_Manual M.Sc(CS/IT)**\n",
        "**Completed the Practical............!!!!**"
      ],
      "metadata": {
        "id": "NnPDC-Ue0bZD"
      }
    }
  ]
}